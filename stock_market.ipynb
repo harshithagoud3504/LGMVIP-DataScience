{
  "nbformat": 4,
  "nbformat_minor": 0,
  "metadata": {
    "colab": {
      "provenance": [],
      "mount_file_id": "1PwfXUfYNaVKeAhTWs5Uf2_NO1vvyI2IY",
      "authorship_tag": "ABX9TyO0LvHTQq0gNzAQshPSicLQ",
      "include_colab_link": true
    },
    "kernelspec": {
      "name": "python3",
      "display_name": "Python 3"
    },
    "language_info": {
      "name": "python"
    }
  },
  "cells": [
    {
      "cell_type": "markdown",
      "metadata": {
        "id": "view-in-github",
        "colab_type": "text"
      },
      "source": [
        "<a href=\"https://colab.research.google.com/github/harshithagoud3504/LGMVIP-DataScience/blob/main/stock_market.ipynb\" target=\"_parent\"><img src=\"https://colab.research.google.com/assets/colab-badge.svg\" alt=\"Open In Colab\"/></a>"
      ]
    },
    {
      "cell_type": "code",
      "execution_count": null,
      "metadata": {
        "id": "Tf9R9LoAPIWK"
      },
      "outputs": [],
      "source": [
        "import pandas as pd\n",
        "import numpy as np"
      ]
    },
    {
      "cell_type": "code",
      "source": [
        "from sklearn.preprocessing import MinMaxScaler\n",
        "from tensorflow.keras.models import Sequential\n",
        "from tensorflow.keras.layers import Dense\n",
        "from tensorflow.keras.layers import LSTM\n",
        "from sklearn.metrics import mean_squared_error\n",
        "\n",
        "import matplotlib.pyplot as plt\n",
        "import seaborn as sns\n",
        "import warnings \n",
        "import pandas as pd\n",
        "import numpy as np\n",
        "import math \n",
        "warnings.filterwarnings('ignore')"
      ],
      "metadata": {
        "id": "ze_UbOisibe2"
      },
      "execution_count": null,
      "outputs": []
    },
    {
      "cell_type": "code",
      "source": [
        "a=pd.read_csv(\"/content/drive/MyDrive/stockmarket.csv\")"
      ],
      "metadata": {
        "id": "NooFybtJPMDQ"
      },
      "execution_count": null,
      "outputs": []
    },
    {
      "cell_type": "code",
      "source": [
        "a=a.replace('[^\\d.]','',regex=True).astype(float)"
      ],
      "metadata": {
        "id": "h_krzBTcZ59k"
      },
      "execution_count": null,
      "outputs": []
    },
    {
      "cell_type": "code",
      "source": [
        "a"
      ],
      "metadata": {
        "colab": {
          "base_uri": "https://localhost:8080/",
          "height": 424
        },
        "id": "rVUP8qsRUPPb",
        "outputId": "0841b4a1-7d66-4c5e-dc50-143fbfcb4ff7"
      },
      "execution_count": null,
      "outputs": [
        {
          "output_type": "execute_result",
          "data": {
            "text/plain": [
              "            Date    Open    High     Low    Last   Close  \\\n",
              "0     20180928.0  234.05  235.95  230.20  233.50  233.75   \n",
              "1     20180927.0  234.55  236.80  231.10  233.80  233.25   \n",
              "2     20180926.0  240.00  240.00  232.50  235.00  234.25   \n",
              "3     20180925.0  233.30  236.75  232.00  236.25  236.10   \n",
              "4     20180924.0  233.55  239.20  230.75  234.00  233.30   \n",
              "...          ...     ...     ...     ...     ...     ...   \n",
              "2030  20100727.0  117.60  119.50  112.00  118.80  118.65   \n",
              "2031  20100726.0  120.10  121.00  117.10  117.10  117.60   \n",
              "2032  20100723.0  121.80  121.95  120.25  120.35  120.65   \n",
              "2033  20100722.0  120.30  122.00  120.25  120.75  120.90   \n",
              "2034  20100721.0  122.10  123.00  121.05  121.10  121.55   \n",
              "\n",
              "      Total Trade Quantity  Turnover (Lacs)  \n",
              "0                3069914.0          7162.35  \n",
              "1                5082859.0         11859.95  \n",
              "2                2240909.0          5248.60  \n",
              "3                2349368.0          5503.90  \n",
              "4                3423509.0          7999.55  \n",
              "...                    ...              ...  \n",
              "2030              586100.0           694.98  \n",
              "2031              658440.0           780.01  \n",
              "2032              281312.0           340.31  \n",
              "2033              293312.0           355.17  \n",
              "2034              658666.0           803.56  \n",
              "\n",
              "[2035 rows x 8 columns]"
            ],
            "text/html": [
              "\n",
              "  <div id=\"df-ac7a5649-2f99-4ac7-b08c-19c542d02cd1\">\n",
              "    <div class=\"colab-df-container\">\n",
              "      <div>\n",
              "<style scoped>\n",
              "    .dataframe tbody tr th:only-of-type {\n",
              "        vertical-align: middle;\n",
              "    }\n",
              "\n",
              "    .dataframe tbody tr th {\n",
              "        vertical-align: top;\n",
              "    }\n",
              "\n",
              "    .dataframe thead th {\n",
              "        text-align: right;\n",
              "    }\n",
              "</style>\n",
              "<table border=\"1\" class=\"dataframe\">\n",
              "  <thead>\n",
              "    <tr style=\"text-align: right;\">\n",
              "      <th></th>\n",
              "      <th>Date</th>\n",
              "      <th>Open</th>\n",
              "      <th>High</th>\n",
              "      <th>Low</th>\n",
              "      <th>Last</th>\n",
              "      <th>Close</th>\n",
              "      <th>Total Trade Quantity</th>\n",
              "      <th>Turnover (Lacs)</th>\n",
              "    </tr>\n",
              "  </thead>\n",
              "  <tbody>\n",
              "    <tr>\n",
              "      <th>0</th>\n",
              "      <td>20180928.0</td>\n",
              "      <td>234.05</td>\n",
              "      <td>235.95</td>\n",
              "      <td>230.20</td>\n",
              "      <td>233.50</td>\n",
              "      <td>233.75</td>\n",
              "      <td>3069914.0</td>\n",
              "      <td>7162.35</td>\n",
              "    </tr>\n",
              "    <tr>\n",
              "      <th>1</th>\n",
              "      <td>20180927.0</td>\n",
              "      <td>234.55</td>\n",
              "      <td>236.80</td>\n",
              "      <td>231.10</td>\n",
              "      <td>233.80</td>\n",
              "      <td>233.25</td>\n",
              "      <td>5082859.0</td>\n",
              "      <td>11859.95</td>\n",
              "    </tr>\n",
              "    <tr>\n",
              "      <th>2</th>\n",
              "      <td>20180926.0</td>\n",
              "      <td>240.00</td>\n",
              "      <td>240.00</td>\n",
              "      <td>232.50</td>\n",
              "      <td>235.00</td>\n",
              "      <td>234.25</td>\n",
              "      <td>2240909.0</td>\n",
              "      <td>5248.60</td>\n",
              "    </tr>\n",
              "    <tr>\n",
              "      <th>3</th>\n",
              "      <td>20180925.0</td>\n",
              "      <td>233.30</td>\n",
              "      <td>236.75</td>\n",
              "      <td>232.00</td>\n",
              "      <td>236.25</td>\n",
              "      <td>236.10</td>\n",
              "      <td>2349368.0</td>\n",
              "      <td>5503.90</td>\n",
              "    </tr>\n",
              "    <tr>\n",
              "      <th>4</th>\n",
              "      <td>20180924.0</td>\n",
              "      <td>233.55</td>\n",
              "      <td>239.20</td>\n",
              "      <td>230.75</td>\n",
              "      <td>234.00</td>\n",
              "      <td>233.30</td>\n",
              "      <td>3423509.0</td>\n",
              "      <td>7999.55</td>\n",
              "    </tr>\n",
              "    <tr>\n",
              "      <th>...</th>\n",
              "      <td>...</td>\n",
              "      <td>...</td>\n",
              "      <td>...</td>\n",
              "      <td>...</td>\n",
              "      <td>...</td>\n",
              "      <td>...</td>\n",
              "      <td>...</td>\n",
              "      <td>...</td>\n",
              "    </tr>\n",
              "    <tr>\n",
              "      <th>2030</th>\n",
              "      <td>20100727.0</td>\n",
              "      <td>117.60</td>\n",
              "      <td>119.50</td>\n",
              "      <td>112.00</td>\n",
              "      <td>118.80</td>\n",
              "      <td>118.65</td>\n",
              "      <td>586100.0</td>\n",
              "      <td>694.98</td>\n",
              "    </tr>\n",
              "    <tr>\n",
              "      <th>2031</th>\n",
              "      <td>20100726.0</td>\n",
              "      <td>120.10</td>\n",
              "      <td>121.00</td>\n",
              "      <td>117.10</td>\n",
              "      <td>117.10</td>\n",
              "      <td>117.60</td>\n",
              "      <td>658440.0</td>\n",
              "      <td>780.01</td>\n",
              "    </tr>\n",
              "    <tr>\n",
              "      <th>2032</th>\n",
              "      <td>20100723.0</td>\n",
              "      <td>121.80</td>\n",
              "      <td>121.95</td>\n",
              "      <td>120.25</td>\n",
              "      <td>120.35</td>\n",
              "      <td>120.65</td>\n",
              "      <td>281312.0</td>\n",
              "      <td>340.31</td>\n",
              "    </tr>\n",
              "    <tr>\n",
              "      <th>2033</th>\n",
              "      <td>20100722.0</td>\n",
              "      <td>120.30</td>\n",
              "      <td>122.00</td>\n",
              "      <td>120.25</td>\n",
              "      <td>120.75</td>\n",
              "      <td>120.90</td>\n",
              "      <td>293312.0</td>\n",
              "      <td>355.17</td>\n",
              "    </tr>\n",
              "    <tr>\n",
              "      <th>2034</th>\n",
              "      <td>20100721.0</td>\n",
              "      <td>122.10</td>\n",
              "      <td>123.00</td>\n",
              "      <td>121.05</td>\n",
              "      <td>121.10</td>\n",
              "      <td>121.55</td>\n",
              "      <td>658666.0</td>\n",
              "      <td>803.56</td>\n",
              "    </tr>\n",
              "  </tbody>\n",
              "</table>\n",
              "<p>2035 rows × 8 columns</p>\n",
              "</div>\n",
              "      <button class=\"colab-df-convert\" onclick=\"convertToInteractive('df-ac7a5649-2f99-4ac7-b08c-19c542d02cd1')\"\n",
              "              title=\"Convert this dataframe to an interactive table.\"\n",
              "              style=\"display:none;\">\n",
              "        \n",
              "  <svg xmlns=\"http://www.w3.org/2000/svg\" height=\"24px\"viewBox=\"0 0 24 24\"\n",
              "       width=\"24px\">\n",
              "    <path d=\"M0 0h24v24H0V0z\" fill=\"none\"/>\n",
              "    <path d=\"M18.56 5.44l.94 2.06.94-2.06 2.06-.94-2.06-.94-.94-2.06-.94 2.06-2.06.94zm-11 1L8.5 8.5l.94-2.06 2.06-.94-2.06-.94L8.5 2.5l-.94 2.06-2.06.94zm10 10l.94 2.06.94-2.06 2.06-.94-2.06-.94-.94-2.06-.94 2.06-2.06.94z\"/><path d=\"M17.41 7.96l-1.37-1.37c-.4-.4-.92-.59-1.43-.59-.52 0-1.04.2-1.43.59L10.3 9.45l-7.72 7.72c-.78.78-.78 2.05 0 2.83L4 21.41c.39.39.9.59 1.41.59.51 0 1.02-.2 1.41-.59l7.78-7.78 2.81-2.81c.8-.78.8-2.07 0-2.86zM5.41 20L4 18.59l7.72-7.72 1.47 1.35L5.41 20z\"/>\n",
              "  </svg>\n",
              "      </button>\n",
              "      \n",
              "  <style>\n",
              "    .colab-df-container {\n",
              "      display:flex;\n",
              "      flex-wrap:wrap;\n",
              "      gap: 12px;\n",
              "    }\n",
              "\n",
              "    .colab-df-convert {\n",
              "      background-color: #E8F0FE;\n",
              "      border: none;\n",
              "      border-radius: 50%;\n",
              "      cursor: pointer;\n",
              "      display: none;\n",
              "      fill: #1967D2;\n",
              "      height: 32px;\n",
              "      padding: 0 0 0 0;\n",
              "      width: 32px;\n",
              "    }\n",
              "\n",
              "    .colab-df-convert:hover {\n",
              "      background-color: #E2EBFA;\n",
              "      box-shadow: 0px 1px 2px rgba(60, 64, 67, 0.3), 0px 1px 3px 1px rgba(60, 64, 67, 0.15);\n",
              "      fill: #174EA6;\n",
              "    }\n",
              "\n",
              "    [theme=dark] .colab-df-convert {\n",
              "      background-color: #3B4455;\n",
              "      fill: #D2E3FC;\n",
              "    }\n",
              "\n",
              "    [theme=dark] .colab-df-convert:hover {\n",
              "      background-color: #434B5C;\n",
              "      box-shadow: 0px 1px 3px 1px rgba(0, 0, 0, 0.15);\n",
              "      filter: drop-shadow(0px 1px 2px rgba(0, 0, 0, 0.3));\n",
              "      fill: #FFFFFF;\n",
              "    }\n",
              "  </style>\n",
              "\n",
              "      <script>\n",
              "        const buttonEl =\n",
              "          document.querySelector('#df-ac7a5649-2f99-4ac7-b08c-19c542d02cd1 button.colab-df-convert');\n",
              "        buttonEl.style.display =\n",
              "          google.colab.kernel.accessAllowed ? 'block' : 'none';\n",
              "\n",
              "        async function convertToInteractive(key) {\n",
              "          const element = document.querySelector('#df-ac7a5649-2f99-4ac7-b08c-19c542d02cd1');\n",
              "          const dataTable =\n",
              "            await google.colab.kernel.invokeFunction('convertToInteractive',\n",
              "                                                     [key], {});\n",
              "          if (!dataTable) return;\n",
              "\n",
              "          const docLinkHtml = 'Like what you see? Visit the ' +\n",
              "            '<a target=\"_blank\" href=https://colab.research.google.com/notebooks/data_table.ipynb>data table notebook</a>'\n",
              "            + ' to learn more about interactive tables.';\n",
              "          element.innerHTML = '';\n",
              "          dataTable['output_type'] = 'display_data';\n",
              "          await google.colab.output.renderOutput(dataTable, element);\n",
              "          const docLink = document.createElement('div');\n",
              "          docLink.innerHTML = docLinkHtml;\n",
              "          element.appendChild(docLink);\n",
              "        }\n",
              "      </script>\n",
              "    </div>\n",
              "  </div>\n",
              "  "
            ]
          },
          "metadata": {},
          "execution_count": 5
        }
      ]
    },
    {
      "cell_type": "code",
      "source": [
        "a.head"
      ],
      "metadata": {
        "colab": {
          "base_uri": "https://localhost:8080/"
        },
        "id": "Vf2kLcGYiP74",
        "outputId": "e79ee92f-d2c9-4e97-a281-fb6afe3682af"
      },
      "execution_count": null,
      "outputs": [
        {
          "output_type": "execute_result",
          "data": {
            "text/plain": [
              "<bound method NDFrame.head of             Date    Open    High     Low    Last   Close  \\\n",
              "0     20180928.0  234.05  235.95  230.20  233.50  233.75   \n",
              "1     20180927.0  234.55  236.80  231.10  233.80  233.25   \n",
              "2     20180926.0  240.00  240.00  232.50  235.00  234.25   \n",
              "3     20180925.0  233.30  236.75  232.00  236.25  236.10   \n",
              "4     20180924.0  233.55  239.20  230.75  234.00  233.30   \n",
              "...          ...     ...     ...     ...     ...     ...   \n",
              "2030  20100727.0  117.60  119.50  112.00  118.80  118.65   \n",
              "2031  20100726.0  120.10  121.00  117.10  117.10  117.60   \n",
              "2032  20100723.0  121.80  121.95  120.25  120.35  120.65   \n",
              "2033  20100722.0  120.30  122.00  120.25  120.75  120.90   \n",
              "2034  20100721.0  122.10  123.00  121.05  121.10  121.55   \n",
              "\n",
              "      Total Trade Quantity  Turnover (Lacs)  \n",
              "0                3069914.0          7162.35  \n",
              "1                5082859.0         11859.95  \n",
              "2                2240909.0          5248.60  \n",
              "3                2349368.0          5503.90  \n",
              "4                3423509.0          7999.55  \n",
              "...                    ...              ...  \n",
              "2030              586100.0           694.98  \n",
              "2031              658440.0           780.01  \n",
              "2032              281312.0           340.31  \n",
              "2033              293312.0           355.17  \n",
              "2034              658666.0           803.56  \n",
              "\n",
              "[2035 rows x 8 columns]>"
            ]
          },
          "metadata": {},
          "execution_count": 6
        }
      ]
    },
    {
      "cell_type": "code",
      "source": [
        "a.info()"
      ],
      "metadata": {
        "colab": {
          "base_uri": "https://localhost:8080/"
        },
        "id": "n84IYioLiS3F",
        "outputId": "17362bd1-dcf4-4f6b-e837-1253c162ec95"
      },
      "execution_count": null,
      "outputs": [
        {
          "output_type": "stream",
          "name": "stdout",
          "text": [
            "<class 'pandas.core.frame.DataFrame'>\n",
            "RangeIndex: 2035 entries, 0 to 2034\n",
            "Data columns (total 8 columns):\n",
            " #   Column                Non-Null Count  Dtype  \n",
            "---  ------                --------------  -----  \n",
            " 0   Date                  2035 non-null   float64\n",
            " 1   Open                  2035 non-null   float64\n",
            " 2   High                  2035 non-null   float64\n",
            " 3   Low                   2035 non-null   float64\n",
            " 4   Last                  2035 non-null   float64\n",
            " 5   Close                 2035 non-null   float64\n",
            " 6   Total Trade Quantity  2035 non-null   float64\n",
            " 7   Turnover (Lacs)       2035 non-null   float64\n",
            "dtypes: float64(8)\n",
            "memory usage: 127.3 KB\n"
          ]
        }
      ]
    },
    {
      "cell_type": "code",
      "source": [
        "a.describe"
      ],
      "metadata": {
        "colab": {
          "base_uri": "https://localhost:8080/"
        },
        "id": "EFBidvBnin_2",
        "outputId": "c2ac145b-c977-411a-bddf-e9a41d3d66e3"
      },
      "execution_count": null,
      "outputs": [
        {
          "output_type": "execute_result",
          "data": {
            "text/plain": [
              "<bound method NDFrame.describe of             Date    Open    High     Low    Last   Close  \\\n",
              "0     20180928.0  234.05  235.95  230.20  233.50  233.75   \n",
              "1     20180927.0  234.55  236.80  231.10  233.80  233.25   \n",
              "2     20180926.0  240.00  240.00  232.50  235.00  234.25   \n",
              "3     20180925.0  233.30  236.75  232.00  236.25  236.10   \n",
              "4     20180924.0  233.55  239.20  230.75  234.00  233.30   \n",
              "...          ...     ...     ...     ...     ...     ...   \n",
              "2030  20100727.0  117.60  119.50  112.00  118.80  118.65   \n",
              "2031  20100726.0  120.10  121.00  117.10  117.10  117.60   \n",
              "2032  20100723.0  121.80  121.95  120.25  120.35  120.65   \n",
              "2033  20100722.0  120.30  122.00  120.25  120.75  120.90   \n",
              "2034  20100721.0  122.10  123.00  121.05  121.10  121.55   \n",
              "\n",
              "      Total Trade Quantity  Turnover (Lacs)  \n",
              "0                3069914.0          7162.35  \n",
              "1                5082859.0         11859.95  \n",
              "2                2240909.0          5248.60  \n",
              "3                2349368.0          5503.90  \n",
              "4                3423509.0          7999.55  \n",
              "...                    ...              ...  \n",
              "2030              586100.0           694.98  \n",
              "2031              658440.0           780.01  \n",
              "2032              281312.0           340.31  \n",
              "2033              293312.0           355.17  \n",
              "2034              658666.0           803.56  \n",
              "\n",
              "[2035 rows x 8 columns]>"
            ]
          },
          "metadata": {},
          "execution_count": 8
        }
      ]
    },
    {
      "cell_type": "code",
      "source": [
        "a['Date'] = pd.to_datetime(a['Date'])\n",
        "a.dtypes"
      ],
      "metadata": {
        "colab": {
          "base_uri": "https://localhost:8080/"
        },
        "id": "V73K-_lCimZo",
        "outputId": "0fbce161-2b57-4e81-932e-0571d8a2eda8"
      },
      "execution_count": null,
      "outputs": [
        {
          "output_type": "execute_result",
          "data": {
            "text/plain": [
              "Date                    datetime64[ns]\n",
              "Open                           float64\n",
              "High                           float64\n",
              "Low                            float64\n",
              "Last                           float64\n",
              "Close                          float64\n",
              "Total Trade Quantity           float64\n",
              "Turnover (Lacs)                float64\n",
              "dtype: object"
            ]
          },
          "metadata": {},
          "execution_count": 9
        }
      ]
    },
    {
      "cell_type": "code",
      "source": [
        "a = a.sort_values('Date')\n",
        "a.head()"
      ],
      "metadata": {
        "colab": {
          "base_uri": "https://localhost:8080/",
          "height": 206
        },
        "id": "1vVWqNEOi1yY",
        "outputId": "ab5dbebf-90ab-476a-cb11-54cffb39bf4c"
      },
      "execution_count": null,
      "outputs": [
        {
          "output_type": "execute_result",
          "data": {
            "text/plain": [
              "                              Date   Open    High     Low    Last   Close  \\\n",
              "2034 1970-01-01 00:00:00.020100721  122.1  123.00  121.05  121.10  121.55   \n",
              "2033 1970-01-01 00:00:00.020100722  120.3  122.00  120.25  120.75  120.90   \n",
              "2032 1970-01-01 00:00:00.020100723  121.8  121.95  120.25  120.35  120.65   \n",
              "2031 1970-01-01 00:00:00.020100726  120.1  121.00  117.10  117.10  117.60   \n",
              "2030 1970-01-01 00:00:00.020100727  117.6  119.50  112.00  118.80  118.65   \n",
              "\n",
              "      Total Trade Quantity  Turnover (Lacs)  \n",
              "2034              658666.0           803.56  \n",
              "2033              293312.0           355.17  \n",
              "2032              281312.0           340.31  \n",
              "2031              658440.0           780.01  \n",
              "2030              586100.0           694.98  "
            ],
            "text/html": [
              "\n",
              "  <div id=\"df-d7ac358d-3f19-4cfa-bf37-8ff766b0121f\">\n",
              "    <div class=\"colab-df-container\">\n",
              "      <div>\n",
              "<style scoped>\n",
              "    .dataframe tbody tr th:only-of-type {\n",
              "        vertical-align: middle;\n",
              "    }\n",
              "\n",
              "    .dataframe tbody tr th {\n",
              "        vertical-align: top;\n",
              "    }\n",
              "\n",
              "    .dataframe thead th {\n",
              "        text-align: right;\n",
              "    }\n",
              "</style>\n",
              "<table border=\"1\" class=\"dataframe\">\n",
              "  <thead>\n",
              "    <tr style=\"text-align: right;\">\n",
              "      <th></th>\n",
              "      <th>Date</th>\n",
              "      <th>Open</th>\n",
              "      <th>High</th>\n",
              "      <th>Low</th>\n",
              "      <th>Last</th>\n",
              "      <th>Close</th>\n",
              "      <th>Total Trade Quantity</th>\n",
              "      <th>Turnover (Lacs)</th>\n",
              "    </tr>\n",
              "  </thead>\n",
              "  <tbody>\n",
              "    <tr>\n",
              "      <th>2034</th>\n",
              "      <td>1970-01-01 00:00:00.020100721</td>\n",
              "      <td>122.1</td>\n",
              "      <td>123.00</td>\n",
              "      <td>121.05</td>\n",
              "      <td>121.10</td>\n",
              "      <td>121.55</td>\n",
              "      <td>658666.0</td>\n",
              "      <td>803.56</td>\n",
              "    </tr>\n",
              "    <tr>\n",
              "      <th>2033</th>\n",
              "      <td>1970-01-01 00:00:00.020100722</td>\n",
              "      <td>120.3</td>\n",
              "      <td>122.00</td>\n",
              "      <td>120.25</td>\n",
              "      <td>120.75</td>\n",
              "      <td>120.90</td>\n",
              "      <td>293312.0</td>\n",
              "      <td>355.17</td>\n",
              "    </tr>\n",
              "    <tr>\n",
              "      <th>2032</th>\n",
              "      <td>1970-01-01 00:00:00.020100723</td>\n",
              "      <td>121.8</td>\n",
              "      <td>121.95</td>\n",
              "      <td>120.25</td>\n",
              "      <td>120.35</td>\n",
              "      <td>120.65</td>\n",
              "      <td>281312.0</td>\n",
              "      <td>340.31</td>\n",
              "    </tr>\n",
              "    <tr>\n",
              "      <th>2031</th>\n",
              "      <td>1970-01-01 00:00:00.020100726</td>\n",
              "      <td>120.1</td>\n",
              "      <td>121.00</td>\n",
              "      <td>117.10</td>\n",
              "      <td>117.10</td>\n",
              "      <td>117.60</td>\n",
              "      <td>658440.0</td>\n",
              "      <td>780.01</td>\n",
              "    </tr>\n",
              "    <tr>\n",
              "      <th>2030</th>\n",
              "      <td>1970-01-01 00:00:00.020100727</td>\n",
              "      <td>117.6</td>\n",
              "      <td>119.50</td>\n",
              "      <td>112.00</td>\n",
              "      <td>118.80</td>\n",
              "      <td>118.65</td>\n",
              "      <td>586100.0</td>\n",
              "      <td>694.98</td>\n",
              "    </tr>\n",
              "  </tbody>\n",
              "</table>\n",
              "</div>\n",
              "      <button class=\"colab-df-convert\" onclick=\"convertToInteractive('df-d7ac358d-3f19-4cfa-bf37-8ff766b0121f')\"\n",
              "              title=\"Convert this dataframe to an interactive table.\"\n",
              "              style=\"display:none;\">\n",
              "        \n",
              "  <svg xmlns=\"http://www.w3.org/2000/svg\" height=\"24px\"viewBox=\"0 0 24 24\"\n",
              "       width=\"24px\">\n",
              "    <path d=\"M0 0h24v24H0V0z\" fill=\"none\"/>\n",
              "    <path d=\"M18.56 5.44l.94 2.06.94-2.06 2.06-.94-2.06-.94-.94-2.06-.94 2.06-2.06.94zm-11 1L8.5 8.5l.94-2.06 2.06-.94-2.06-.94L8.5 2.5l-.94 2.06-2.06.94zm10 10l.94 2.06.94-2.06 2.06-.94-2.06-.94-.94-2.06-.94 2.06-2.06.94z\"/><path d=\"M17.41 7.96l-1.37-1.37c-.4-.4-.92-.59-1.43-.59-.52 0-1.04.2-1.43.59L10.3 9.45l-7.72 7.72c-.78.78-.78 2.05 0 2.83L4 21.41c.39.39.9.59 1.41.59.51 0 1.02-.2 1.41-.59l7.78-7.78 2.81-2.81c.8-.78.8-2.07 0-2.86zM5.41 20L4 18.59l7.72-7.72 1.47 1.35L5.41 20z\"/>\n",
              "  </svg>\n",
              "      </button>\n",
              "      \n",
              "  <style>\n",
              "    .colab-df-container {\n",
              "      display:flex;\n",
              "      flex-wrap:wrap;\n",
              "      gap: 12px;\n",
              "    }\n",
              "\n",
              "    .colab-df-convert {\n",
              "      background-color: #E8F0FE;\n",
              "      border: none;\n",
              "      border-radius: 50%;\n",
              "      cursor: pointer;\n",
              "      display: none;\n",
              "      fill: #1967D2;\n",
              "      height: 32px;\n",
              "      padding: 0 0 0 0;\n",
              "      width: 32px;\n",
              "    }\n",
              "\n",
              "    .colab-df-convert:hover {\n",
              "      background-color: #E2EBFA;\n",
              "      box-shadow: 0px 1px 2px rgba(60, 64, 67, 0.3), 0px 1px 3px 1px rgba(60, 64, 67, 0.15);\n",
              "      fill: #174EA6;\n",
              "    }\n",
              "\n",
              "    [theme=dark] .colab-df-convert {\n",
              "      background-color: #3B4455;\n",
              "      fill: #D2E3FC;\n",
              "    }\n",
              "\n",
              "    [theme=dark] .colab-df-convert:hover {\n",
              "      background-color: #434B5C;\n",
              "      box-shadow: 0px 1px 3px 1px rgba(0, 0, 0, 0.15);\n",
              "      filter: drop-shadow(0px 1px 2px rgba(0, 0, 0, 0.3));\n",
              "      fill: #FFFFFF;\n",
              "    }\n",
              "  </style>\n",
              "\n",
              "      <script>\n",
              "        const buttonEl =\n",
              "          document.querySelector('#df-d7ac358d-3f19-4cfa-bf37-8ff766b0121f button.colab-df-convert');\n",
              "        buttonEl.style.display =\n",
              "          google.colab.kernel.accessAllowed ? 'block' : 'none';\n",
              "\n",
              "        async function convertToInteractive(key) {\n",
              "          const element = document.querySelector('#df-d7ac358d-3f19-4cfa-bf37-8ff766b0121f');\n",
              "          const dataTable =\n",
              "            await google.colab.kernel.invokeFunction('convertToInteractive',\n",
              "                                                     [key], {});\n",
              "          if (!dataTable) return;\n",
              "\n",
              "          const docLinkHtml = 'Like what you see? Visit the ' +\n",
              "            '<a target=\"_blank\" href=https://colab.research.google.com/notebooks/data_table.ipynb>data table notebook</a>'\n",
              "            + ' to learn more about interactive tables.';\n",
              "          element.innerHTML = '';\n",
              "          dataTable['output_type'] = 'display_data';\n",
              "          await google.colab.output.renderOutput(dataTable, element);\n",
              "          const docLink = document.createElement('div');\n",
              "          docLink.innerHTML = docLinkHtml;\n",
              "          element.appendChild(docLink);\n",
              "        }\n",
              "      </script>\n",
              "    </div>\n",
              "  </div>\n",
              "  "
            ]
          },
          "metadata": {},
          "execution_count": 10
        }
      ]
    },
    {
      "cell_type": "code",
      "source": [
        "plt.figure(figsize = (9,6))\n",
        "plt.title('Tata Stocks Closing Price')\n",
        "plt.plot(a['Close'],'g')\n",
        "plt.xlabel('Date',fontsize=10)\n",
        "plt.ylabel('Close',fontsize=10)"
      ],
      "metadata": {
        "colab": {
          "base_uri": "https://localhost:8080/",
          "height": 421
        },
        "id": "DmiTx92Zi9_a",
        "outputId": "ff1937bb-99cc-4094-b2b6-f22f9fb33f05"
      },
      "execution_count": null,
      "outputs": [
        {
          "output_type": "execute_result",
          "data": {
            "text/plain": [
              "Text(0, 0.5, 'Close')"
            ]
          },
          "metadata": {},
          "execution_count": 11
        },
        {
          "output_type": "display_data",
          "data": {
            "text/plain": [
              "<Figure size 648x432 with 1 Axes>"
            ],
            "image/png": "[encoded data removed]"
          },
          "metadata": {
            "needs_background": "light"
          }
        }
      ]
    },
    {
      "cell_type": "code",
      "source": [
        "dcorr = a.corr()\n",
        "top_corr_features = dcorr.index\n",
        "plt.figure(figsize=(10,7))\n",
        "sns.heatmap(a[top_corr_features].corr(), annot=True, cmap=\"YlGnBu\")"
      ],
      "metadata": {
        "colab": {
          "base_uri": "https://localhost:8080/",
          "height": 539
        },
        "id": "s-6Lr9q5jHwX",
        "outputId": "902df052-4b1c-448d-948a-e318f58aeb84"
      },
      "execution_count": null,
      "outputs": [
        {
          "output_type": "execute_result",
          "data": {
            "text/plain": [
              "<matplotlib.axes._subplots.AxesSubplot at 0x7fd0db6b53d0>"
            ]
          },
          "metadata": {},
          "execution_count": 12
        },
        {
          "output_type": "display_data",
          "data": {
            "text/plain": [
              "<Figure size 720x504 with 2 Axes>"
            ],
            "image/png": "[encoded data removed]"
          },
          "metadata": {
            "needs_background": "light"
          }
        }
      ]
    },
    {
      "cell_type": "markdown",
      "source": [
        "**MinMaxScaler**"
      ],
      "metadata": {
        "id": "bmSKRjc4jidd"
      }
    },
    {
      "cell_type": "code",
      "source": [
        "data_close = a.reset_index()['Close']\n",
        "data_close.head()\n",
        "scaler = MinMaxScaler(feature_range = (0, 1))\n",
        "data_close = scaler.fit_transform(np.array(data_close).reshape(-1, 1))"
      ],
      "metadata": {
        "id": "-hXapzj6jVx3"
      },
      "execution_count": null,
      "outputs": []
    },
    {
      "cell_type": "markdown",
      "source": [
        "**Splitting train, Test data**\n"
      ],
      "metadata": {
        "id": "mkNCFD7Sjn6x"
      }
    },
    {
      "cell_type": "code",
      "source": [
        "train_size = int(len(data_close)*0.70)\n",
        "test_size = len(data_close) - train_size\n",
        "train, test = data_close[0 : train_size, :], data_close[train_size : len(data_close), :1]"
      ],
      "metadata": {
        "id": "GpOw6TCGjnK9"
      },
      "execution_count": null,
      "outputs": []
    },
    {
      "cell_type": "code",
      "source": [
        "def create_matrix(ds, time_step=1):\n",
        "    dataX, dataY = [], []\n",
        "    for i in range(len(ds)-time_step-1):\n",
        "        a = ds[i:(i+time_step),0]\n",
        "        dataX.append(a)\n",
        "        dataY.append(ds[i+time_step,0])\n",
        "    return np.array(dataX), np.array(dataY)"
      ],
      "metadata": {
        "id": "kAUrFb-qjzzU"
      },
      "execution_count": null,
      "outputs": []
    },
    {
      "cell_type": "code",
      "source": [
        "step=100 \n",
        "X_train, y_train = create_matrix(train, step)\n",
        "X_test, y_test = create_matrix(test, step)\n",
        "print(X_train.shape, y_train.shape)\n",
        "print(X_test.shape, y_test.shape)"
      ],
      "metadata": {
        "colab": {
          "base_uri": "https://localhost:8080/"
        },
        "id": "eD_nzm5ij03Z",
        "outputId": "f82cafcf-93ab-4544-d5d3-e224b1cb058e"
      },
      "execution_count": null,
      "outputs": [
        {
          "output_type": "stream",
          "name": "stdout",
          "text": [
            "(1323, 100) (1323,)\n",
            "(510, 100) (510,)\n"
          ]
        }
      ]
    },
    {
      "cell_type": "code",
      "source": [
        "X_train = X_train.reshape(X_train.shape[0], X_train.shape[1], 1)\n",
        "X_test = X_test.reshape(X_test.shape[0], X_test.shape[1], 1)"
      ],
      "metadata": {
        "id": "b9u-23nnj5Fb"
      },
      "execution_count": null,
      "outputs": []
    },
    {
      "cell_type": "markdown",
      "source": [
        "**LSTM Model**"
      ],
      "metadata": {
        "id": "JRaK0gYTj9TN"
      }
    },
    {
      "cell_type": "code",
      "source": [
        "model = Sequential()\n",
        "model.add(LSTM(50, return_sequences=True,input_shape=(100,1)))\n",
        "model.add(LSTM(50,return_sequences=True))\n",
        "model.add(LSTM(50))\n",
        "model.add(Dense(1))\n",
        "model.compile(loss='mean_squared_error',optimizer='adam')"
      ],
      "metadata": {
        "id": "OROfQDc4j6Tq"
      },
      "execution_count": null,
      "outputs": []
    },
    {
      "cell_type": "code",
      "source": [
        "model.summary()"
      ],
      "metadata": {
        "colab": {
          "base_uri": "https://localhost:8080/"
        },
        "id": "pAN1MllqkDi7",
        "outputId": "4b0c83e0-0a8c-4756-dc23-ee549df9746c"
      },
      "execution_count": null,
      "outputs": [
        {
          "output_type": "stream",
          "name": "stdout",
          "text": [
            "Model: \"sequential\"\n",
            "_________________________________________________________________\n",
            " Layer (type)                Output Shape              Param #   \n",
            "=================================================================\n",
            " lstm (LSTM)                 (None, 100, 50)           10400     \n",
            "                                                                 \n",
            " lstm_1 (LSTM)               (None, 100, 50)           20200     \n",
            "                                                                 \n",
            " lstm_2 (LSTM)               (None, 50)                20200     \n",
            "                                                                 \n",
            " dense (Dense)               (None, 1)                 51        \n",
            "                                                                 \n",
            "=================================================================\n",
            "Total params: 50,851\n",
            "Trainable params: 50,851\n",
            "Non-trainable params: 0\n",
            "_________________________________________________________________\n"
          ]
        }
      ]
    },
    {
      "cell_type": "code",
      "source": [
        "history = model.fit(X_train, y_train, validation_split=0.1, epochs=77, batch_size=64, verbose=1, shuffle=True).history"
      ],
      "metadata": {
        "colab": {
          "base_uri": "https://localhost:8080/"
        },
        "id": "NO_Hu3takJMN",
        "outputId": "18bcc893-c79b-4131-9d27-7dd58bbe6b95"
      },
      "execution_count": null,
      "outputs": [
        {
          "output_type": "stream",
          "name": "stdout",
          "text": [
            "Epoch 1/77\n",
            "19/19 [==============================] - 14s 474ms/step - loss: 0.0082 - val_loss: 0.0016\n",
            "Epoch 2/77\n",
            "19/19 [==============================] - 7s 381ms/step - loss: 0.0017 - val_loss: 0.0019\n",
            "Epoch 3/77\n",
            "19/19 [==============================] - 6s 280ms/step - loss: 0.0010 - val_loss: 0.0012\n",
            "Epoch 4/77\n",
            "19/19 [==============================] - 4s 197ms/step - loss: 9.0365e-04 - val_loss: 0.0012\n",
            "Epoch 5/77\n",
            "19/19 [==============================] - 4s 192ms/step - loss: 8.3678e-04 - val_loss: 0.0011\n",
            "Epoch 6/77\n",
            "19/19 [==============================] - 4s 199ms/step - loss: 8.0298e-04 - val_loss: 0.0011\n",
            "Epoch 7/77\n",
            "19/19 [==============================] - 4s 193ms/step - loss: 7.7133e-04 - val_loss: 0.0010\n",
            "Epoch 8/77\n",
            "19/19 [==============================] - 4s 196ms/step - loss: 7.7086e-04 - val_loss: 0.0011\n",
            "Epoch 9/77\n",
            "19/19 [==============================] - 4s 200ms/step - loss: 7.5503e-04 - val_loss: 9.1405e-04\n",
            "Epoch 10/77\n",
            "19/19 [==============================] - 4s 193ms/step - loss: 7.4901e-04 - val_loss: 8.8771e-04\n",
            "Epoch 11/77\n",
            "19/19 [==============================] - 4s 187ms/step - loss: 7.2874e-04 - val_loss: 9.3192e-04\n",
            "Epoch 12/77\n",
            "19/19 [==============================] - 4s 188ms/step - loss: 6.9327e-04 - val_loss: 8.0542e-04\n",
            "Epoch 13/77\n",
            "19/19 [==============================] - 4s 197ms/step - loss: 7.1665e-04 - val_loss: 8.2290e-04\n",
            "Epoch 14/77\n",
            "19/19 [==============================] - 4s 191ms/step - loss: 6.3318e-04 - val_loss: 7.4872e-04\n",
            "Epoch 15/77\n",
            "19/19 [==============================] - 4s 188ms/step - loss: 6.0691e-04 - val_loss: 7.0138e-04\n",
            "Epoch 16/77\n",
            "19/19 [==============================] - 3s 182ms/step - loss: 6.1954e-04 - val_loss: 6.8342e-04\n",
            "Epoch 17/77\n",
            "19/19 [==============================] - 4s 201ms/step - loss: 6.1101e-04 - val_loss: 7.2370e-04\n",
            "Epoch 18/77\n",
            "19/19 [==============================] - 4s 186ms/step - loss: 5.7584e-04 - val_loss: 6.4688e-04\n",
            "Epoch 19/77\n",
            "19/19 [==============================] - 3s 184ms/step - loss: 5.5732e-04 - val_loss: 6.3456e-04\n",
            "Epoch 20/77\n",
            "19/19 [==============================] - 4s 185ms/step - loss: 5.4332e-04 - val_loss: 5.8345e-04\n",
            "Epoch 21/77\n",
            "19/19 [==============================] - 4s 200ms/step - loss: 5.4038e-04 - val_loss: 6.1577e-04\n",
            "Epoch 22/77\n",
            "19/19 [==============================] - 4s 189ms/step - loss: 5.2168e-04 - val_loss: 5.5155e-04\n",
            "Epoch 23/77\n",
            "19/19 [==============================] - 4s 199ms/step - loss: 4.9790e-04 - val_loss: 5.5787e-04\n",
            "Epoch 24/77\n",
            "19/19 [==============================] - 4s 190ms/step - loss: 4.8482e-04 - val_loss: 5.1716e-04\n",
            "Epoch 25/77\n",
            "19/19 [==============================] - 4s 198ms/step - loss: 4.8340e-04 - val_loss: 5.5111e-04\n",
            "Epoch 26/77\n",
            "19/19 [==============================] - 4s 186ms/step - loss: 4.8062e-04 - val_loss: 4.8527e-04\n",
            "Epoch 27/77\n",
            "19/19 [==============================] - 4s 213ms/step - loss: 4.6096e-04 - val_loss: 4.6396e-04\n",
            "Epoch 28/77\n",
            "19/19 [==============================] - 5s 248ms/step - loss: 4.5105e-04 - val_loss: 4.6691e-04\n",
            "Epoch 29/77\n",
            "19/19 [==============================] - 4s 197ms/step - loss: 4.5552e-04 - val_loss: 5.3777e-04\n",
            "Epoch 30/77\n",
            "19/19 [==============================] - 3s 183ms/step - loss: 4.7510e-04 - val_loss: 4.4089e-04\n",
            "Epoch 31/77\n",
            "19/19 [==============================] - 4s 184ms/step - loss: 4.1849e-04 - val_loss: 4.1666e-04\n",
            "Epoch 32/77\n",
            "19/19 [==============================] - 3s 178ms/step - loss: 4.1061e-04 - val_loss: 3.9599e-04\n",
            "Epoch 33/77\n",
            "19/19 [==============================] - 3s 183ms/step - loss: 4.1046e-04 - val_loss: 3.8839e-04\n",
            "Epoch 34/77\n",
            "19/19 [==============================] - 4s 185ms/step - loss: 3.8883e-04 - val_loss: 4.5035e-04\n",
            "Epoch 35/77\n",
            "19/19 [==============================] - 3s 179ms/step - loss: 4.0414e-04 - val_loss: 3.8964e-04\n",
            "Epoch 36/77\n",
            "19/19 [==============================] - 3s 185ms/step - loss: 3.8986e-04 - val_loss: 3.9644e-04\n",
            "Epoch 37/77\n",
            "19/19 [==============================] - 3s 184ms/step - loss: 3.5208e-04 - val_loss: 3.4998e-04\n",
            "Epoch 38/77\n",
            "19/19 [==============================] - 3s 183ms/step - loss: 3.5138e-04 - val_loss: 3.1567e-04\n",
            "Epoch 39/77\n",
            "19/19 [==============================] - 3s 183ms/step - loss: 3.2555e-04 - val_loss: 2.9138e-04\n",
            "Epoch 40/77\n",
            "19/19 [==============================] - 3s 185ms/step - loss: 3.0873e-04 - val_loss: 3.2193e-04\n",
            "Epoch 41/77\n",
            "19/19 [==============================] - 3s 183ms/step - loss: 3.1996e-04 - val_loss: 2.9746e-04\n",
            "Epoch 42/77\n",
            "19/19 [==============================] - 4s 185ms/step - loss: 3.3770e-04 - val_loss: 2.6696e-04\n",
            "Epoch 43/77\n",
            "19/19 [==============================] - 3s 180ms/step - loss: 3.1167e-04 - val_loss: 2.7037e-04\n",
            "Epoch 44/77\n",
            "19/19 [==============================] - 3s 181ms/step - loss: 2.9051e-04 - val_loss: 2.6716e-04\n",
            "Epoch 45/77\n",
            "19/19 [==============================] - 4s 185ms/step - loss: 2.7102e-04 - val_loss: 2.3382e-04\n",
            "Epoch 46/77\n",
            "19/19 [==============================] - 3s 182ms/step - loss: 2.7796e-04 - val_loss: 3.1781e-04\n",
            "Epoch 47/77\n",
            "19/19 [==============================] - 3s 178ms/step - loss: 3.0855e-04 - val_loss: 4.0422e-04\n",
            "Epoch 48/77\n",
            "19/19 [==============================] - 3s 180ms/step - loss: 2.7340e-04 - val_loss: 2.3001e-04\n",
            "Epoch 49/77\n",
            "19/19 [==============================] - 3s 184ms/step - loss: 2.7322e-04 - val_loss: 2.1671e-04\n",
            "Epoch 50/77\n",
            "19/19 [==============================] - 3s 178ms/step - loss: 2.4142e-04 - val_loss: 2.0982e-04\n",
            "Epoch 51/77\n",
            "19/19 [==============================] - 3s 182ms/step - loss: 2.3080e-04 - val_loss: 2.2770e-04\n",
            "Epoch 52/77\n",
            "19/19 [==============================] - 3s 180ms/step - loss: 2.2342e-04 - val_loss: 1.9831e-04\n",
            "Epoch 53/77\n",
            "19/19 [==============================] - 3s 180ms/step - loss: 2.6826e-04 - val_loss: 2.4931e-04\n",
            "Epoch 54/77\n",
            "19/19 [==============================] - 3s 182ms/step - loss: 2.9488e-04 - val_loss: 2.2638e-04\n",
            "Epoch 55/77\n",
            "19/19 [==============================] - 3s 178ms/step - loss: 2.3424e-04 - val_loss: 1.8613e-04\n",
            "Epoch 56/77\n",
            "19/19 [==============================] - 3s 182ms/step - loss: 2.0944e-04 - val_loss: 2.0079e-04\n",
            "Epoch 57/77\n",
            "19/19 [==============================] - 3s 179ms/step - loss: 2.0942e-04 - val_loss: 2.3402e-04\n",
            "Epoch 58/77\n",
            "19/19 [==============================] - 4s 186ms/step - loss: 1.9816e-04 - val_loss: 1.9952e-04\n",
            "Epoch 59/77\n",
            "19/19 [==============================] - 3s 179ms/step - loss: 1.8884e-04 - val_loss: 1.7376e-04\n",
            "Epoch 60/77\n",
            "19/19 [==============================] - 3s 179ms/step - loss: 1.7858e-04 - val_loss: 1.7570e-04\n",
            "Epoch 61/77\n",
            "19/19 [==============================] - 3s 183ms/step - loss: 1.8095e-04 - val_loss: 1.5006e-04\n",
            "Epoch 62/77\n",
            "19/19 [==============================] - 3s 181ms/step - loss: 1.8381e-04 - val_loss: 1.4634e-04\n",
            "Epoch 63/77\n",
            "19/19 [==============================] - 3s 182ms/step - loss: 1.9301e-04 - val_loss: 2.0429e-04\n",
            "Epoch 64/77\n",
            "19/19 [==============================] - 3s 179ms/step - loss: 1.7391e-04 - val_loss: 1.4251e-04\n",
            "Epoch 65/77\n",
            "19/19 [==============================] - 3s 180ms/step - loss: 1.5967e-04 - val_loss: 1.3707e-04\n",
            "Epoch 66/77\n",
            "19/19 [==============================] - 3s 179ms/step - loss: 1.8185e-04 - val_loss: 2.3599e-04\n",
            "Epoch 67/77\n",
            "19/19 [==============================] - 3s 182ms/step - loss: 1.7435e-04 - val_loss: 1.3974e-04\n",
            "Epoch 68/77\n",
            "19/19 [==============================] - 3s 183ms/step - loss: 1.7211e-04 - val_loss: 1.3163e-04\n",
            "Epoch 69/77\n",
            "19/19 [==============================] - 3s 180ms/step - loss: 1.6357e-04 - val_loss: 1.5395e-04\n",
            "Epoch 70/77\n",
            "19/19 [==============================] - 3s 179ms/step - loss: 1.5904e-04 - val_loss: 1.9224e-04\n",
            "Epoch 71/77\n",
            "19/19 [==============================] - 3s 179ms/step - loss: 1.8188e-04 - val_loss: 1.3568e-04\n",
            "Epoch 72/77\n",
            "19/19 [==============================] - 3s 183ms/step - loss: 1.6985e-04 - val_loss: 1.4436e-04\n",
            "Epoch 73/77\n",
            "19/19 [==============================] - 3s 183ms/step - loss: 1.4940e-04 - val_loss: 1.2756e-04\n",
            "Epoch 74/77\n",
            "19/19 [==============================] - 3s 182ms/step - loss: 1.4810e-04 - val_loss: 1.2466e-04\n",
            "Epoch 75/77\n",
            "19/19 [==============================] - 3s 178ms/step - loss: 1.3810e-04 - val_loss: 1.3390e-04\n",
            "Epoch 76/77\n",
            "19/19 [==============================] - 3s 179ms/step - loss: 1.3538e-04 - val_loss: 1.5171e-04\n",
            "Epoch 77/77\n",
            "19/19 [==============================] - 3s 181ms/step - loss: 1.4460e-04 - val_loss: 1.2993e-04\n"
          ]
        }
      ]
    },
    {
      "cell_type": "code",
      "source": [
        "\n",
        "train_predict = model.predict(X_train)\n",
        "test_predict = model.predict(X_test)"
      ],
      "metadata": {
        "colab": {
          "base_uri": "https://localhost:8080/"
        },
        "id": "OmxIYkuVkQT9",
        "outputId": "eb43a073-1bdb-4d87-92af-580ed5f201ee"
      },
      "execution_count": null,
      "outputs": [
        {
          "output_type": "stream",
          "name": "stdout",
          "text": [
            "42/42 [==============================] - 3s 36ms/step\n",
            "16/16 [==============================] - 1s 41ms/step\n"
          ]
        }
      ]
    },
    {
      "cell_type": "code",
      "source": [
        "# Reversing the MinMax Scaler\n",
        "train_predict = scaler.inverse_transform(train_predict)\n",
        "test_predict = scaler.inverse_transform(test_predict)"
      ],
      "metadata": {
        "id": "sGvsjMTYgLpU"
      },
      "execution_count": null,
      "outputs": []
    },
    {
      "cell_type": "code",
      "source": [
        "math.sqrt(mean_squared_error(y_train, train_predict))\n",
        "math.sqrt(mean_squared_error(y_test,test_predict))"
      ],
      "metadata": {
        "colab": {
          "base_uri": "https://localhost:8080/"
        },
        "id": "-Z1fQTrulqjn",
        "outputId": "3cb7e719-22f1-4779-e3cf-4c3e06e8b8df"
      },
      "execution_count": null,
      "outputs": [
        {
          "output_type": "execute_result",
          "data": {
            "text/plain": [
              "205.272777824195"
            ]
          },
          "metadata": {},
          "execution_count": 23
        }
      ]
    },
    {
      "cell_type": "code",
      "source": [
        "### Visualise the Predictions\n",
        "look_back = 100\n",
        "train_num_pyredict_plot = np.empty_like(data_close)\n",
        "train_num_pyredict_plot[:, :] = np.nan\n",
        "train_num_pyredict_plot[look_back : len(train_predict) + look_back, :] = train_predict\n",
        "test_predict_plot = np.empty_like(data_close)\n",
        "test_predict_plot[:, :] = np.nan\n",
        "test_predict_plot[len(train_predict) + (look_back * 2) + 1 : len(data_close) - 1, :] = test_predict\n",
        "plt.plot(scaler.inverse_transform(data_close))\n",
        "plt.plot(train_num_pyredict_plot)\n",
        "plt.plot(test_predict_plot)\n",
        "plt.show()"
      ],
      "metadata": {
        "colab": {
          "base_uri": "https://localhost:8080/",
          "height": 265
        },
        "id": "InDNHOzOlum4",
        "outputId": "b893c6a0-40a2-46c7-e4db-4e7a08021016"
      },
      "execution_count": null,
      "outputs": [
        {
          "output_type": "display_data",
          "data": {
            "text/plain": [
              "<Figure size 432x288 with 1 Axes>"
            ],
            "image/png": "[encoded data removed]"
          },
          "metadata": {
            "needs_background": "light"
          }
        }
      ]
    },
    {
      "cell_type": "code",
      "source": [
        "### Future Prediction Model\n",
        "x_inum_pyut=test[307:].reshape(1, -1)\n",
        "x_inum_pyut.shape\n",
        "temp_inum_pyut = list(x_inum_pyut)\n",
        "temp_inum_pyut = temp_inum_pyut[0].tolist()\n",
        "temp_inum_pyut = list(x_inum_pyut)\n",
        "temp_inum_pyut = temp_inum_pyut[0].tolist()"
      ],
      "metadata": {
        "id": "-PW_ggkOlyEN"
      },
      "execution_count": null,
      "outputs": []
    },
    {
      "cell_type": "code",
      "source": [
        "day_new = np.arange(1, 101)\n",
        "day_pred = np.arange(101, 131)\n",
        "plt.plot(day_new, scaler.inverse_transform(data_close[1935 : ]))"
      ],
      "metadata": {
        "colab": {
          "base_uri": "https://localhost:8080/",
          "height": 282
        },
        "id": "7TJp1qGqlzEy",
        "outputId": "28d9be03-01f2-45ff-9ba8-ea59b17d65bf"
      },
      "execution_count": null,
      "outputs": [
        {
          "output_type": "execute_result",
          "data": {
            "text/plain": [
              "[<matplotlib.lines.Line2D at 0x7fd0d426b6d0>]"
            ]
          },
          "metadata": {},
          "execution_count": 26
        },
        {
          "output_type": "display_data",
          "data": {
            "text/plain": [
              "<Figure size 432x288 with 1 Axes>"
            ],
            "image/png": "[encoded data removed]"
          },
          "metadata": {
            "needs_background": "light"
          }
        }
      ]
    }
  ]
}